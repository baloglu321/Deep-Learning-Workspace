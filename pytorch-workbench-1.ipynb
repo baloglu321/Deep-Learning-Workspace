{
 "cells": [
  {
   "cell_type": "code",
   "execution_count": 52,
   "id": "697e40e5-efba-46f6-8064-42c30e480cbf",
   "metadata": {},
   "outputs": [],
   "source": [
    "import torch\n",
    "import numpy as np\n",
    "import pandas as pd"
   ]
  },
  {
   "cell_type": "code",
   "execution_count": 5,
   "id": "115fec96-5768-4c1f-b2fe-8f203705e106",
   "metadata": {},
   "outputs": [
    {
     "data": {
      "text/plain": [
       "torch.int64"
      ]
     },
     "execution_count": 5,
     "metadata": {},
     "output_type": "execute_result"
    }
   ],
   "source": [
    "a=torch.tensor([7,4,3,2,6])\n",
    "a.dtype"
   ]
  },
  {
   "cell_type": "code",
   "execution_count": 6,
   "id": "21c5a76c-a751-4c97-b1ce-0b3368c58372",
   "metadata": {},
   "outputs": [
    {
     "data": {
      "text/plain": [
       "'torch.LongTensor'"
      ]
     },
     "execution_count": 6,
     "metadata": {},
     "output_type": "execute_result"
    }
   ],
   "source": [
    "a.type()"
   ]
  },
  {
   "cell_type": "code",
   "execution_count": 7,
   "id": "2c41b66e-a778-4808-bdbc-05e94c83cb82",
   "metadata": {},
   "outputs": [
    {
     "data": {
      "text/plain": [
       "'torch.FloatTensor'"
      ]
     },
     "execution_count": 7,
     "metadata": {},
     "output_type": "execute_result"
    }
   ],
   "source": [
    "float_tensor=torch.FloatTensor([0,1,2,3,4])\n",
    "float_tensor.type()"
   ]
  },
  {
   "cell_type": "code",
   "execution_count": 9,
   "id": "52772321-d839-44c0-9316-fa58799c0008",
   "metadata": {},
   "outputs": [
    {
     "data": {
      "text/plain": [
       "torch.float32"
      ]
     },
     "execution_count": 9,
     "metadata": {},
     "output_type": "execute_result"
    }
   ],
   "source": [
    "a = torch.tensor([4, 1, 2, 3, 4])\n",
    "b=a.type(torch.float32)\n",
    "b.dtype"
   ]
  },
  {
   "cell_type": "code",
   "execution_count": 10,
   "id": "aea43a18-2c4e-41db-93e7-f6c0004b130a",
   "metadata": {},
   "outputs": [
    {
     "data": {
      "text/plain": [
       "torch.Size([5])"
      ]
     },
     "execution_count": 10,
     "metadata": {},
     "output_type": "execute_result"
    }
   ],
   "source": [
    "a.size()"
   ]
  },
  {
   "cell_type": "code",
   "execution_count": 13,
   "id": "0534435e-125c-40ab-9f50-240150cb14ee",
   "metadata": {},
   "outputs": [
    {
     "data": {
      "text/plain": [
       "tensor([[4],\n",
       "        [1],\n",
       "        [2],\n",
       "        [3],\n",
       "        [4]])"
      ]
     },
     "execution_count": 13,
     "metadata": {},
     "output_type": "execute_result"
    }
   ],
   "source": [
    "a.view(-1,1)"
   ]
  },
  {
   "cell_type": "code",
   "execution_count": 18,
   "id": "e7c8aada-bfe5-436d-9e01-03b08af79ec2",
   "metadata": {},
   "outputs": [
    {
     "name": "stdout",
     "output_type": "stream",
     "text": [
      "[0.  0.1 0.2 0.3 0.4] tensor([0.0000, 0.1000, 0.2000, 0.3000, 0.4000], dtype=torch.float64) [0.  0.1 0.2 0.3 0.4]\n"
     ]
    }
   ],
   "source": [
    "array=np.array([0.0,0.1,0.2,0.3,0.4])\n",
    "tensor=torch.from_numpy(array)\n",
    "back_to_array=tensor.numpy()\n",
    "print(array,tensor,back_to_array)"
   ]
  },
  {
   "cell_type": "markdown",
   "id": "c292121a-b5d3-443f-8af1-837f9607d63a",
   "metadata": {},
   "source": [
    "<h1>İndexing and slicing</h1>"
   ]
  },
  {
   "cell_type": "code",
   "execution_count": 21,
   "id": "7cbecfb0-65b2-49dc-a1e1-35e8e4723b77",
   "metadata": {},
   "outputs": [
    {
     "name": "stdout",
     "output_type": "stream",
     "text": [
      "tensor([100,   1,   2,   3,   4])\n"
     ]
    }
   ],
   "source": [
    "c=torch.tensor([20,1,2,3,4])\n",
    "c[0]=100\n",
    "print(c)"
   ]
  },
  {
   "cell_type": "code",
   "execution_count": 47,
   "id": "46b21ce3-ef5e-4bbd-bdb8-42564af63b0e",
   "metadata": {},
   "outputs": [
    {
     "data": {
      "text/plain": [
       "[<matplotlib.lines.Line2D at 0x20e56ee10f0>]"
      ]
     },
     "execution_count": 47,
     "metadata": {},
     "output_type": "execute_result"
    },
    {
     "data": {
      "image/png": "[encoded data removed]",
      "text/plain": [
       "<Figure size 640x480 with 1 Axes>"
      ]
     },
     "metadata": {},
     "output_type": "display_data"
    }
   ],
   "source": [
    "x=torch.linspace(0,3*np.pi,100)\n",
    "line=torch.linspace(0,3*np.pi,100)\n",
    "line=line*0\n",
    "y=torch.sin(x)\n",
    "import matplotlib.pyplot as plt\n",
    "plt.plot(x.numpy(),y.numpy())\n",
    "plt.plot(x.numpy(),line.numpy(),\"-r\")"
   ]
  },
  {
   "cell_type": "markdown",
   "id": "aeb6be18-99d5-4a9b-a3b1-5205821750eb",
   "metadata": {},
   "source": [
    "<h1>Two-Dimensional Tensors</h1>"
   ]
  },
  {
   "cell_type": "code",
   "execution_count": 48,
   "id": "62341245-2ba2-4596-b2b5-ca131c7268df",
   "metadata": {},
   "outputs": [
    {
     "name": "stdout",
     "output_type": "stream",
     "text": [
      "The New 2D Tensor:  tensor([[11, 12, 13],\n",
      "        [21, 22, 23],\n",
      "        [31, 32, 33]])\n"
     ]
    }
   ],
   "source": [
    "twoD_list = [[11, 12, 13], [21, 22, 23], [31, 32, 33]]\n",
    "twoD_tensor = torch.tensor(twoD_list)\n",
    "print(\"The New 2D Tensor: \", twoD_tensor)"
   ]
  },
  {
   "cell_type": "code",
   "execution_count": 49,
   "id": "d0ed11e1-604e-49c6-ae45-d00a78da4245",
   "metadata": {},
   "outputs": [
    {
     "name": "stdout",
     "output_type": "stream",
     "text": [
      "The dimension of twoD_tensor:  2\n",
      "The shape of twoD_tensor:  torch.Size([3, 3])\n",
      "The shape of twoD_tensor:  torch.Size([3, 3])\n",
      "The number of elements in twoD_tensor:  9\n"
     ]
    }
   ],
   "source": [
    "print(\"The dimension of twoD_tensor: \", twoD_tensor.ndimension())\n",
    "print(\"The shape of twoD_tensor: \", twoD_tensor.shape)\n",
    "print(\"The shape of twoD_tensor: \", twoD_tensor.size())\n",
    "print(\"The number of elements in twoD_tensor: \", twoD_tensor.numel())"
   ]
  },
  {
   "cell_type": "code",
   "execution_count": 50,
   "id": "4591beca-d28c-40b5-9327-6c15e2c7bfa1",
   "metadata": {},
   "outputs": [
    {
     "name": "stdout",
     "output_type": "stream",
     "text": [
      "Tensor -> Numpy Array:\n",
      "The numpy array after converting:  [[11 12 13]\n",
      " [21 22 23]\n",
      " [31 32 33]]\n",
      "Type after converting:  int64\n",
      "================================================\n",
      "Numpy Array -> Tensor:\n",
      "The tensor after converting: tensor([[11, 12, 13],\n",
      "        [21, 22, 23],\n",
      "        [31, 32, 33]])\n",
      "Type after converting:  torch.int64\n"
     ]
    }
   ],
   "source": [
    "twoD_numpy = twoD_tensor.numpy()\n",
    "print(\"Tensor -> Numpy Array:\")\n",
    "print(\"The numpy array after converting: \", twoD_numpy)\n",
    "print(\"Type after converting: \", twoD_numpy.dtype)\n",
    "\n",
    "print(\"================================================\")\n",
    "\n",
    "new_twoD_tensor = torch.from_numpy(twoD_numpy)\n",
    "print(\"Numpy Array -> Tensor:\")\n",
    "print(\"The tensor after converting:\", new_twoD_tensor)\n",
    "print(\"Type after converting: \", new_twoD_tensor.dtype)"
   ]
  },
  {
   "cell_type": "code",
   "execution_count": 53,
   "id": "aabf1cff-b911-4c0f-8e9d-937b02924cbe",
   "metadata": {},
   "outputs": [
    {
     "name": "stdout",
     "output_type": "stream",
     "text": [
      "Pandas Dataframe to numpy:  [[ 11  12]\n",
      " [ 21  22]\n",
      " [ 31 312]]\n",
      "Type BEFORE converting:  int64\n",
      "================================================\n",
      "Tensor AFTER converting:  tensor([[ 11,  12],\n",
      "        [ 21,  22],\n",
      "        [ 31, 312]])\n",
      "Type AFTER converting:  torch.int64\n"
     ]
    }
   ],
   "source": [
    "df = pd.DataFrame({'a':[11,21,31],'b':[12,22,312]})\n",
    "\n",
    "print(\"Pandas Dataframe to numpy: \", df.values)\n",
    "print(\"Type BEFORE converting: \", df.values.dtype)\n",
    "\n",
    "print(\"================================================\")\n",
    "\n",
    "new_tensor = torch.from_numpy(df.values)\n",
    "print(\"Tensor AFTER converting: \", new_tensor)\n",
    "print(\"Type AFTER converting: \", new_tensor.dtype)"
   ]
  },
  {
   "cell_type": "markdown",
   "id": "9b9ea549-4146-4175-8132-7673c87f5a56",
   "metadata": {},
   "source": [
    "</h1>Indexing and Slicing</h1>"
   ]
  },
  {
   "cell_type": "code",
   "execution_count": 54,
   "id": "b675c30a-2bc5-45c8-b9ea-69030d822fdb",
   "metadata": {},
   "outputs": [
    {
     "name": "stdout",
     "output_type": "stream",
     "text": [
      "What is the value on 2nd-row 3rd-column?  tensor(23)\n",
      "What is the value on 2nd-row 3rd-column?  tensor(23)\n"
     ]
    }
   ],
   "source": [
    "tensor_example = torch.tensor([[11, 12, 13], [21, 22, 23], [31, 32, 33]])\n",
    "print(\"What is the value on 2nd-row 3rd-column? \", tensor_example[1, 2])\n",
    "print(\"What is the value on 2nd-row 3rd-column? \", tensor_example[1][2])"
   ]
  },
  {
   "cell_type": "code",
   "execution_count": 55,
   "id": "7933dadc-85a1-4d67-9168-e197425d0d0c",
   "metadata": {},
   "outputs": [
    {
     "name": "stdout",
     "output_type": "stream",
     "text": [
      "What is the value on 1st-row first two columns?  tensor([11, 12])\n",
      "What is the value on 1st-row first two columns?  tensor([11, 12])\n"
     ]
    }
   ],
   "source": [
    "tensor_example = torch.tensor([[11, 12, 13], [21, 22, 23], [31, 32, 33]])\n",
    "print(\"What is the value on 1st-row first two columns? \", tensor_example[0, 0:2])\n",
    "print(\"What is the value on 1st-row first two columns? \", tensor_example[0][0:2])"
   ]
  },
  {
   "cell_type": "code",
   "execution_count": 56,
   "id": "12d1bd62-2740-4c54-803b-efdc33fb56d8",
   "metadata": {},
   "outputs": [
    {
     "name": "stdout",
     "output_type": "stream",
     "text": [
      "1. Slicing step on tensor_example: \n",
      "Result after tensor_example[1:3]:  tensor([[21, 22, 23],\n",
      "        [31, 32, 33]])\n",
      "Dimension after tensor_example[1:3]:  2\n",
      "================================================\n",
      "2. Pick an index on sliced_tensor_example: \n",
      "Result after sliced_tensor_example[1]:  tensor([31, 32, 33])\n",
      "Dimension after sliced_tensor_example[1]:  1\n",
      "================================================\n",
      "3. Combine these step together:\n",
      "Result:  tensor([31, 32, 33])\n",
      "Dimension:  1\n"
     ]
    }
   ],
   "source": [
    "tensor_example = torch.tensor([[11, 12, 13], [21, 22, 23], [31, 32, 33]])\n",
    "sliced_tensor_example = tensor_example[1:3]\n",
    "print(\"1. Slicing step on tensor_example: \")\n",
    "print(\"Result after tensor_example[1:3]: \", sliced_tensor_example)\n",
    "print(\"Dimension after tensor_example[1:3]: \", sliced_tensor_example.ndimension())\n",
    "print(\"================================================\")\n",
    "print(\"2. Pick an index on sliced_tensor_example: \")\n",
    "print(\"Result after sliced_tensor_example[1]: \", sliced_tensor_example[1])\n",
    "print(\"Dimension after sliced_tensor_example[1]: \", sliced_tensor_example[1].ndimension())\n",
    "print(\"================================================\")\n",
    "print(\"3. Combine these step together:\")\n",
    "print(\"Result: \", tensor_example[1:3][1])\n",
    "print(\"Dimension: \", tensor_example[1:3][1].ndimension())"
   ]
  },
  {
   "cell_type": "code",
   "execution_count": 57,
   "id": "65bf0515-7e81-4df0-8dac-2720ed08fa0e",
   "metadata": {},
   "outputs": [
    {
     "name": "stdout",
     "output_type": "stream",
     "text": [
      "What is the value on 3rd-column last two rows?  tensor([23, 33])\n"
     ]
    }
   ],
   "source": [
    "tensor_example = torch.tensor([[11, 12, 13], [21, 22, 23], [31, 32, 33]])\n",
    "print(\"What is the value on 3rd-column last two rows? \", tensor_example[1:3, 2])"
   ]
  },
  {
   "cell_type": "code",
   "execution_count": 58,
   "id": "184e1505-7b83-4ab9-b5b0-2f1f8e735c4e",
   "metadata": {},
   "outputs": [
    {
     "name": "stdout",
     "output_type": "stream",
     "text": [
      "The result:  tensor([[11, 12, 13],\n",
      "        [ 0, 22, 23],\n",
      "        [ 0, 32, 33]])\n"
     ]
    }
   ],
   "source": [
    "tensor_ques = torch.tensor([[11, 12, 13], [21, 22, 23], [31, 32, 33]])\n",
    "tensor_ques[1:3,0]=0\n",
    "print(\"The result: \", tensor_ques)"
   ]
  },
  {
   "cell_type": "code",
   "execution_count": 59,
   "id": "5bbb8828-7f51-4a93-9536-9c31f4155d28",
   "metadata": {},
   "outputs": [
    {
     "name": "stdout",
     "output_type": "stream",
     "text": [
      "The result of X + Y:  tensor([[3, 1],\n",
      "        [1, 3]])\n"
     ]
    }
   ],
   "source": [
    "X = torch.tensor([[1, 0],[0, 1]]) \n",
    "Y = torch.tensor([[2, 1],[1, 2]])\n",
    "X_plus_Y = X + Y\n",
    "print(\"The result of X + Y: \", X_plus_Y)"
   ]
  },
  {
   "cell_type": "code",
   "execution_count": 60,
   "id": "1e2c9b47-056f-4e70-9d83-099f8b97900d",
   "metadata": {},
   "outputs": [
    {
     "name": "stdout",
     "output_type": "stream",
     "text": [
      "The result of 2Y:  tensor([[4, 2],\n",
      "        [2, 4]])\n"
     ]
    }
   ],
   "source": [
    "Y = torch.tensor([[2, 1], [1, 2]]) \n",
    "two_Y = 2 * Y\n",
    "print(\"The result of 2Y: \", two_Y)"
   ]
  },
  {
   "cell_type": "code",
   "execution_count": 61,
   "id": "72db22a7-76ca-4635-ae62-2e3ebe58303c",
   "metadata": {},
   "outputs": [
    {
     "name": "stdout",
     "output_type": "stream",
     "text": [
      "The result of X * Y:  tensor([[2, 0],\n",
      "        [0, 2]])\n"
     ]
    }
   ],
   "source": [
    "X = torch.tensor([[1, 0], [0, 1]])\n",
    "Y = torch.tensor([[2, 1], [1, 2]]) \n",
    "X_times_Y = X * Y\n",
    "print(\"The result of X * Y: \", X_times_Y)"
   ]
  },
  {
   "cell_type": "code",
   "execution_count": 62,
   "id": "6db646c3-7de8-4669-abe9-574f87b1b70e",
   "metadata": {},
   "outputs": [
    {
     "name": "stdout",
     "output_type": "stream",
     "text": [
      "The result of A * B:  tensor([[0, 2],\n",
      "        [0, 2]])\n"
     ]
    }
   ],
   "source": [
    "A = torch.tensor([[0, 1, 1], [1, 0, 1]])\n",
    "B = torch.tensor([[1, 1], [1, 1], [-1, 1]])\n",
    "A_times_B = torch.mm(A,B)\n",
    "print(\"The result of A * B: \", A_times_B)"
   ]
  },
  {
   "cell_type": "code",
   "execution_count": 63,
   "id": "9a99e26a-18d5-4ace-b5e5-d2a8eb5949dd",
   "metadata": {},
   "outputs": [
    {
     "name": "stdout",
     "output_type": "stream",
     "text": [
      "The result of X * Y:  tensor([[220, 382],\n",
      "        [361, 525]])\n"
     ]
    }
   ],
   "source": [
    "X = torch.tensor([[10, 11, 15], [10, 20, 13]])\n",
    "Y = torch.tensor([[10, 12], [15, 17], [-3, 5]])\n",
    "X_times_Y = torch.mm(X, Y)\n",
    "print(\"The result of X * Y: \", X_times_Y)"
   ]
  },
  {
   "cell_type": "markdown",
   "id": "d529b2e3-7ba0-4d4f-b3d8-63de3c3cd850",
   "metadata": {},
   "source": [
    "<h1>Differentiation in PyTorch</h1>"
   ]
  },
  {
   "cell_type": "code",
   "execution_count": 73,
   "id": "6449aa5c-d73c-465e-baaa-54f2d71e0042",
   "metadata": {},
   "outputs": [
    {
     "name": "stdout",
     "output_type": "stream",
     "text": [
      "tensor(9., grad_fn=<AddBackward0>)\n"
     ]
    },
    {
     "data": {
      "text/plain": [
       "tensor(6.)"
      ]
     },
     "execution_count": 73,
     "metadata": {},
     "output_type": "execute_result"
    }
   ],
   "source": [
    "x=torch.tensor(2.0,requires_grad=True)\n",
    "y=x**2+2*x+1\n",
    "print(y)\n",
    "\n",
    "y.backward()\n",
    "x.grad"
   ]
  },
  {
   "cell_type": "code",
   "execution_count": 76,
   "id": "8eafb43b-47fb-429e-baba-43515a3dc247",
   "metadata": {},
   "outputs": [
    {
     "name": "stdout",
     "output_type": "stream",
     "text": [
      "tensor(1., requires_grad=True) tensor(2., requires_grad=True) tensor(3., grad_fn=<AddBackward0>)\n",
      "tensor(4.) tensor(1.)\n"
     ]
    }
   ],
   "source": [
    "u=torch.tensor(1.0,requires_grad=True)\n",
    "v=torch.tensor(2.0,requires_grad=True)\n",
    "f=u*v+u**2\n",
    "print(u,v,f)\n",
    "f.backward()\n",
    "grad_v=v.grad\n",
    "grad_u=u.grad\n",
    "print(grad_u,grad_v)"
   ]
  },
  {
   "cell_type": "code",
   "execution_count": 78,
   "id": "d840deed-ad86-4cae-97e7-104cd0a9b05a",
   "metadata": {},
   "outputs": [
    {
     "data": {
      "text/plain": [
       "tensor(7.)"
      ]
     },
     "execution_count": 78,
     "metadata": {},
     "output_type": "execute_result"
    }
   ],
   "source": [
    "x=torch.tensor(1.0,requires_grad=True)\n",
    "y=2*(x**3)+x\n",
    "y.backward()\n",
    "x.grad"
   ]
  },
  {
   "cell_type": "code",
   "execution_count": 80,
   "id": "319c6d29-dbbf-4655-bb3b-13dbb70604eb",
   "metadata": {},
   "outputs": [],
   "source": [
    "x = torch.linspace(-10, 10, 10, requires_grad = True)\n",
    "Y = x ** 2\n",
    "y = torch.sum(x ** 2)"
   ]
  },
  {
   "cell_type": "code",
   "execution_count": 81,
   "id": "e908efbf-0ee1-4f02-b30d-4afb59d67342",
   "metadata": {},
   "outputs": [
    {
     "data": {
      "image/png": "[encoded data removed]",
      "text/plain": [
       "<Figure size 640x480 with 1 Axes>"
      ]
     },
     "metadata": {},
     "output_type": "display_data"
    }
   ],
   "source": [
    "\n",
    "y.backward()\n",
    "\n",
    "plt.plot(x.detach().numpy(), Y.detach().numpy(), label = 'function')\n",
    "plt.plot(x.detach().numpy(), x.grad.detach().numpy(), label = 'derivative')\n",
    "plt.xlabel('x')\n",
    "plt.legend()\n",
    "plt.show()"
   ]
  },
  {
   "cell_type": "code",
   "execution_count": 82,
   "id": "49f39143-4ab4-4595-bb7d-8a9bad858042",
   "metadata": {},
   "outputs": [
    {
     "name": "stdout",
     "output_type": "stream",
     "text": [
      "The u result is  tensor(5.)\n",
      "The v result is  tensor(10.)\n"
     ]
    }
   ],
   "source": [
    "u = torch.tensor(2.0,requires_grad=True)\n",
    "v = torch.tensor(1.0,requires_grad=True)\n",
    "f=u*v+(u*v)**2\n",
    "f.backward()\n",
    "print(\"The u result is \", u.grad)\n",
    "print(\"The v result is \", v.grad)"
   ]
  },
  {
   "cell_type": "markdown",
   "id": "ed371bba-7a55-425d-a2c6-41f1f93fdaeb",
   "metadata": {},
   "source": [
    "<h1>Dataset works</h1>"
   ]
  },
  {
   "cell_type": "code",
   "execution_count": 84,
   "id": "a4bf5eab-f919-4273-80fa-89b69fabe6fe",
   "metadata": {},
   "outputs": [
    {
     "data": {
      "text/plain": [
       "<torch._C.Generator at 0x20e4d067990>"
      ]
     },
     "execution_count": 84,
     "metadata": {},
     "output_type": "execute_result"
    }
   ],
   "source": [
    "import torch\n",
    "from torch.utils.data import Dataset\n",
    "torch.manual_seed(1)"
   ]
  },
  {
   "cell_type": "code",
   "execution_count": 99,
   "id": "8930ac98-3cd9-43c7-9d15-8dca4c1b4397",
   "metadata": {},
   "outputs": [],
   "source": [
    "class toy_set(Dataset):\n",
    "    \n",
    "    # Constructor with defult values \n",
    "    def __init__(self, length = 100, transform = None):\n",
    "        self.len = length\n",
    "        self.x = 2 * torch.ones(length, 2)\n",
    "        self.y = torch.rand(length, 1)\n",
    "        self.transform = transform\n",
    "     \n",
    "    # Getter\n",
    "    def __getitem__(self, index):\n",
    "        sample = self.x[index], self.y[index]\n",
    "        if self.transform:\n",
    "            sample = self.transform(sample)     \n",
    "        return sample\n",
    "    \n",
    "    # Get Length\n",
    "    def __len__(self):\n",
    "        return self.len"
   ]
  },
  {
   "cell_type": "code",
   "execution_count": 100,
   "id": "f93fa8fa-f3b3-4063-beca-02965b587130",
   "metadata": {},
   "outputs": [
    {
     "name": "stdout",
     "output_type": "stream",
     "text": [
      "Our toy_set object:  <__main__.toy_set object at 0x0000020E6065CFA0>\n",
      "Value on index 0 of our toy_set object:  (tensor([2., 2.]), tensor([0.8696]))\n",
      "Our toy_set length:  100\n"
     ]
    }
   ],
   "source": [
    "our_dataset = toy_set()\n",
    "print(\"Our toy_set object: \", our_dataset)\n",
    "print(\"Value on index 0 of our toy_set object: \", our_dataset[0])\n",
    "print(\"Our toy_set length: \", len(our_dataset))"
   ]
  },
  {
   "cell_type": "code",
   "execution_count": 101,
   "id": "1b3c3f6b-47c9-49dc-b7b6-90eb22559227",
   "metadata": {},
   "outputs": [
    {
     "name": "stdout",
     "output_type": "stream",
     "text": [
      "index:  0 ; x: tensor([2., 2.]) ; y: tensor([0.8696])\n",
      "index:  1 ; x: tensor([2., 2.]) ; y: tensor([0.1392])\n",
      "index:  2 ; x: tensor([2., 2.]) ; y: tensor([0.3146])\n"
     ]
    }
   ],
   "source": [
    "for i in range(3):\n",
    "    x, y=our_dataset[i]\n",
    "    print(\"index: \", i, '; x:', x, '; y:', y)"
   ]
  },
  {
   "cell_type": "code",
   "execution_count": 102,
   "id": "e0464f3f-6f20-4082-8896-3df32c1d32d7",
   "metadata": {},
   "outputs": [
    {
     "name": "stdout",
     "output_type": "stream",
     "text": [
      " x: tensor([2., 2.]) y: tensor([0.8696])\n",
      " x: tensor([2., 2.]) y: tensor([0.1392])\n",
      " x: tensor([2., 2.]) y: tensor([0.3146])\n",
      " x: tensor([2., 2.]) y: tensor([0.9409])\n",
      " x: tensor([2., 2.]) y: tensor([0.1192])\n",
      " x: tensor([2., 2.]) y: tensor([0.9536])\n",
      " x: tensor([2., 2.]) y: tensor([0.1068])\n",
      " x: tensor([2., 2.]) y: tensor([0.1478])\n",
      " x: tensor([2., 2.]) y: tensor([0.7444])\n",
      " x: tensor([2., 2.]) y: tensor([0.1408])\n",
      " x: tensor([2., 2.]) y: tensor([0.3854])\n",
      " x: tensor([2., 2.]) y: tensor([0.8637])\n",
      " x: tensor([2., 2.]) y: tensor([0.8960])\n",
      " x: tensor([2., 2.]) y: tensor([0.9729])\n",
      " x: tensor([2., 2.]) y: tensor([0.3985])\n",
      " x: tensor([2., 2.]) y: tensor([0.1114])\n",
      " x: tensor([2., 2.]) y: tensor([0.9923])\n",
      " x: tensor([2., 2.]) y: tensor([0.3935])\n",
      " x: tensor([2., 2.]) y: tensor([0.2943])\n",
      " x: tensor([2., 2.]) y: tensor([0.6219])\n",
      " x: tensor([2., 2.]) y: tensor([0.1503])\n",
      " x: tensor([2., 2.]) y: tensor([0.8286])\n",
      " x: tensor([2., 2.]) y: tensor([0.8134])\n",
      " x: tensor([2., 2.]) y: tensor([0.1033])\n",
      " x: tensor([2., 2.]) y: tensor([0.0893])\n",
      " x: tensor([2., 2.]) y: tensor([0.4562])\n",
      " x: tensor([2., 2.]) y: tensor([0.7100])\n",
      " x: tensor([2., 2.]) y: tensor([0.4855])\n",
      " x: tensor([2., 2.]) y: tensor([0.2465])\n",
      " x: tensor([2., 2.]) y: tensor([0.5114])\n",
      " x: tensor([2., 2.]) y: tensor([0.0300])\n",
      " x: tensor([2., 2.]) y: tensor([0.1466])\n",
      " x: tensor([2., 2.]) y: tensor([0.1672])\n",
      " x: tensor([2., 2.]) y: tensor([0.9118])\n",
      " x: tensor([2., 2.]) y: tensor([0.9408])\n",
      " x: tensor([2., 2.]) y: tensor([0.3302])\n",
      " x: tensor([2., 2.]) y: tensor([0.5224])\n",
      " x: tensor([2., 2.]) y: tensor([0.7230])\n",
      " x: tensor([2., 2.]) y: tensor([0.5599])\n",
      " x: tensor([2., 2.]) y: tensor([0.2496])\n",
      " x: tensor([2., 2.]) y: tensor([0.7884])\n",
      " x: tensor([2., 2.]) y: tensor([0.8074])\n",
      " x: tensor([2., 2.]) y: tensor([0.4710])\n",
      " x: tensor([2., 2.]) y: tensor([0.4384])\n",
      " x: tensor([2., 2.]) y: tensor([0.9544])\n",
      " x: tensor([2., 2.]) y: tensor([0.9371])\n",
      " x: tensor([2., 2.]) y: tensor([0.2165])\n",
      " x: tensor([2., 2.]) y: tensor([0.9892])\n",
      " x: tensor([2., 2.]) y: tensor([0.6237])\n",
      " x: tensor([2., 2.]) y: tensor([0.1679])\n",
      " x: tensor([2., 2.]) y: tensor([0.7737])\n",
      " x: tensor([2., 2.]) y: tensor([0.1267])\n",
      " x: tensor([2., 2.]) y: tensor([0.9620])\n",
      " x: tensor([2., 2.]) y: tensor([0.1786])\n",
      " x: tensor([2., 2.]) y: tensor([0.6414])\n",
      " x: tensor([2., 2.]) y: tensor([0.6523])\n",
      " x: tensor([2., 2.]) y: tensor([0.6189])\n",
      " x: tensor([2., 2.]) y: tensor([0.9147])\n",
      " x: tensor([2., 2.]) y: tensor([0.2923])\n",
      " x: tensor([2., 2.]) y: tensor([0.2889])\n",
      " x: tensor([2., 2.]) y: tensor([0.0667])\n",
      " x: tensor([2., 2.]) y: tensor([0.4795])\n",
      " x: tensor([2., 2.]) y: tensor([0.2631])\n",
      " x: tensor([2., 2.]) y: tensor([0.5200])\n",
      " x: tensor([2., 2.]) y: tensor([0.3975])\n",
      " x: tensor([2., 2.]) y: tensor([0.6659])\n",
      " x: tensor([2., 2.]) y: tensor([0.9325])\n",
      " x: tensor([2., 2.]) y: tensor([0.6475])\n",
      " x: tensor([2., 2.]) y: tensor([0.3389])\n",
      " x: tensor([2., 2.]) y: tensor([0.2547])\n",
      " x: tensor([2., 2.]) y: tensor([0.0639])\n",
      " x: tensor([2., 2.]) y: tensor([0.9207])\n",
      " x: tensor([2., 2.]) y: tensor([0.4053])\n",
      " x: tensor([2., 2.]) y: tensor([0.6009])\n",
      " x: tensor([2., 2.]) y: tensor([0.5185])\n",
      " x: tensor([2., 2.]) y: tensor([0.1814])\n",
      " x: tensor([2., 2.]) y: tensor([0.7816])\n",
      " x: tensor([2., 2.]) y: tensor([0.7802])\n",
      " x: tensor([2., 2.]) y: tensor([0.5252])\n",
      " x: tensor([2., 2.]) y: tensor([0.2159])\n",
      " x: tensor([2., 2.]) y: tensor([0.2875])\n",
      " x: tensor([2., 2.]) y: tensor([0.5069])\n",
      " x: tensor([2., 2.]) y: tensor([0.2143])\n",
      " x: tensor([2., 2.]) y: tensor([0.2210])\n",
      " x: tensor([2., 2.]) y: tensor([0.4254])\n",
      " x: tensor([2., 2.]) y: tensor([0.3560])\n",
      " x: tensor([2., 2.]) y: tensor([0.6227])\n",
      " x: tensor([2., 2.]) y: tensor([0.3686])\n",
      " x: tensor([2., 2.]) y: tensor([0.4337])\n",
      " x: tensor([2., 2.]) y: tensor([0.3092])\n",
      " x: tensor([2., 2.]) y: tensor([0.0431])\n",
      " x: tensor([2., 2.]) y: tensor([0.9361])\n",
      " x: tensor([2., 2.]) y: tensor([0.5954])\n",
      " x: tensor([2., 2.]) y: tensor([0.9471])\n",
      " x: tensor([2., 2.]) y: tensor([0.4194])\n",
      " x: tensor([2., 2.]) y: tensor([0.3743])\n",
      " x: tensor([2., 2.]) y: tensor([0.0299])\n",
      " x: tensor([2., 2.]) y: tensor([0.3102])\n",
      " x: tensor([2., 2.]) y: tensor([0.8279])\n",
      " x: tensor([2., 2.]) y: tensor([0.0103])\n"
     ]
    }
   ],
   "source": [
    "for x,y in our_dataset:\n",
    "    print(' x:', x, 'y:', y)"
   ]
  },
  {
   "cell_type": "code",
   "execution_count": 103,
   "id": "2daf2599-42d4-47eb-a557-c5aba203c35a",
   "metadata": {},
   "outputs": [
    {
     "name": "stdout",
     "output_type": "stream",
     "text": [
      "My toy_set object:  <__main__.toy_set object at 0x0000020E6065F340>\n",
      "Value on index 0 of my toy_set object:  (tensor([2., 2.]), tensor([0.3251]))\n",
      "My toy_set length:  50\n"
     ]
    }
   ],
   "source": [
    "my_dataset=toy_set(length = 50)\n",
    "print(\"My toy_set object: \", my_dataset)\n",
    "print(\"Value on index 0 of my toy_set object: \", my_dataset[0])\n",
    "print(\"My toy_set length: \", len(my_dataset))"
   ]
  },
  {
   "cell_type": "code",
   "execution_count": 104,
   "id": "07e101ed-fb42-4dc9-87d5-80c6ffe0fa29",
   "metadata": {},
   "outputs": [],
   "source": [
    "class add_mult(object):\n",
    "    \n",
    "    # Constructor\n",
    "    def __init__(self, addx = 1, muly = 2):\n",
    "        self.addx = addx\n",
    "        self.muly = muly\n",
    "    \n",
    "    # Executor\n",
    "    def __call__(self, sample):\n",
    "        x = sample[0]\n",
    "        y = sample[1]\n",
    "        x = x + self.addx\n",
    "        y = y * self.muly\n",
    "        sample = x, y\n",
    "        return sample"
   ]
  },
  {
   "cell_type": "code",
   "execution_count": 105,
   "id": "a115deae-16a2-438c-bbae-cd3ed0f264d5",
   "metadata": {},
   "outputs": [],
   "source": [
    "a_m = add_mult()\n",
    "data_set = toy_set()"
   ]
  },
  {
   "cell_type": "code",
   "execution_count": 106,
   "id": "8520be3e-d34a-41a5-a516-f14d3e360cac",
   "metadata": {},
   "outputs": [
    {
     "name": "stdout",
     "output_type": "stream",
     "text": [
      "Index:  0 Original x:  tensor([2., 2.]) Original y:  tensor([0.0333])\n",
      "Index:  0 Transformed x_: tensor([3., 3.]) Transformed y_: tensor([0.0667])\n",
      "Index:  1 Original x:  tensor([2., 2.]) Original y:  tensor([0.2547])\n",
      "Index:  1 Transformed x_: tensor([3., 3.]) Transformed y_: tensor([0.5094])\n",
      "Index:  2 Original x:  tensor([2., 2.]) Original y:  tensor([0.6407])\n",
      "Index:  2 Transformed x_: tensor([3., 3.]) Transformed y_: tensor([1.2813])\n",
      "Index:  3 Original x:  tensor([2., 2.]) Original y:  tensor([0.3988])\n",
      "Index:  3 Transformed x_: tensor([3., 3.]) Transformed y_: tensor([0.7976])\n",
      "Index:  4 Original x:  tensor([2., 2.]) Original y:  tensor([0.0172])\n",
      "Index:  4 Transformed x_: tensor([3., 3.]) Transformed y_: tensor([0.0343])\n",
      "Index:  5 Original x:  tensor([2., 2.]) Original y:  tensor([0.6753])\n",
      "Index:  5 Transformed x_: tensor([3., 3.]) Transformed y_: tensor([1.3507])\n",
      "Index:  6 Original x:  tensor([2., 2.]) Original y:  tensor([0.5192])\n",
      "Index:  6 Transformed x_: tensor([3., 3.]) Transformed y_: tensor([1.0384])\n",
      "Index:  7 Original x:  tensor([2., 2.]) Original y:  tensor([0.3393])\n",
      "Index:  7 Transformed x_: tensor([3., 3.]) Transformed y_: tensor([0.6786])\n",
      "Index:  8 Original x:  tensor([2., 2.]) Original y:  tensor([0.7020])\n",
      "Index:  8 Transformed x_: tensor([3., 3.]) Transformed y_: tensor([1.4040])\n",
      "Index:  9 Original x:  tensor([2., 2.]) Original y:  tensor([0.6056])\n",
      "Index:  9 Transformed x_: tensor([3., 3.]) Transformed y_: tensor([1.2111])\n"
     ]
    }
   ],
   "source": [
    "\n",
    "for i in range(10):\n",
    "    x, y = data_set[i]\n",
    "    print('Index: ', i, 'Original x: ', x, 'Original y: ', y)\n",
    "    x_, y_ = a_m(data_set[i])\n",
    "    print('Index: ', i, 'Transformed x_:', x_, 'Transformed y_:', y_)"
   ]
  },
  {
   "cell_type": "code",
   "execution_count": 107,
   "id": "2c5a8653-0bd5-4b48-894a-fd701d2b2a24",
   "metadata": {},
   "outputs": [],
   "source": [
    "cust_data_set = toy_set(transform = a_m)"
   ]
  },
  {
   "cell_type": "code",
   "execution_count": 108,
   "id": "88f426c5-a4fc-4f56-9359-b82d1e16b51c",
   "metadata": {},
   "outputs": [
    {
     "name": "stdout",
     "output_type": "stream",
     "text": [
      "Index:  0 Original x:  tensor([2., 2.]) Original y:  tensor([0.0333])\n",
      "Index:  0 Transformed x_: tensor([3., 3.]) Transformed y_: tensor([0.2881])\n",
      "Index:  1 Original x:  tensor([2., 2.]) Original y:  tensor([0.2547])\n",
      "Index:  1 Transformed x_: tensor([3., 3.]) Transformed y_: tensor([0.7814])\n",
      "Index:  2 Original x:  tensor([2., 2.]) Original y:  tensor([0.6407])\n",
      "Index:  2 Transformed x_: tensor([3., 3.]) Transformed y_: tensor([1.0098])\n",
      "Index:  3 Original x:  tensor([2., 2.]) Original y:  tensor([0.3988])\n",
      "Index:  3 Transformed x_: tensor([3., 3.]) Transformed y_: tensor([0.4222])\n",
      "Index:  4 Original x:  tensor([2., 2.]) Original y:  tensor([0.0172])\n",
      "Index:  4 Transformed x_: tensor([3., 3.]) Transformed y_: tensor([0.7445])\n",
      "Index:  5 Original x:  tensor([2., 2.]) Original y:  tensor([0.6753])\n",
      "Index:  5 Transformed x_: tensor([3., 3.]) Transformed y_: tensor([0.5687])\n",
      "Index:  6 Original x:  tensor([2., 2.]) Original y:  tensor([0.5192])\n",
      "Index:  6 Transformed x_: tensor([3., 3.]) Transformed y_: tensor([1.9530])\n",
      "Index:  7 Original x:  tensor([2., 2.]) Original y:  tensor([0.3393])\n",
      "Index:  7 Transformed x_: tensor([3., 3.]) Transformed y_: tensor([1.8495])\n",
      "Index:  8 Original x:  tensor([2., 2.]) Original y:  tensor([0.7020])\n",
      "Index:  8 Transformed x_: tensor([3., 3.]) Transformed y_: tensor([1.8625])\n",
      "Index:  9 Original x:  tensor([2., 2.]) Original y:  tensor([0.6056])\n",
      "Index:  9 Transformed x_: tensor([3., 3.]) Transformed y_: tensor([1.8173])\n"
     ]
    }
   ],
   "source": [
    "for i in range(10):\n",
    "    x, y = data_set[i]\n",
    "    print('Index: ', i, 'Original x: ', x, 'Original y: ', y)\n",
    "    x_, y_ = cust_data_set[i]\n",
    "    print('Index: ', i, 'Transformed x_:', x_, 'Transformed y_:', y_)"
   ]
  },
  {
   "cell_type": "code",
   "execution_count": 109,
   "id": "82f3cf22-3734-47a6-b0fe-e23bb993fb6d",
   "metadata": {},
   "outputs": [
    {
     "name": "stdout",
     "output_type": "stream",
     "text": [
      "Index:  0 Transformed x_: tensor([40., 40.]) Transformed y_: tensor([21.7332])\n",
      "Index:  1 Transformed x_: tensor([40., 40.]) Transformed y_: tensor([22.1447])\n",
      "Index:  2 Transformed x_: tensor([40., 40.]) Transformed y_: tensor([26.0588])\n"
     ]
    }
   ],
   "source": [
    "class my_add_mult(object):   \n",
    "    def __init__(self, add = 2, mul = 10):\n",
    "        self.add=add\n",
    "        self.mul=mul\n",
    "        \n",
    "    def __call__(self, sample):\n",
    "        x = sample[0]\n",
    "        y = sample[1]\n",
    "        x = x + self.add\n",
    "        y = y + self.add\n",
    "        x = x * self.mul\n",
    "        y = y * self.mul\n",
    "        sample = x, y\n",
    "        return sample\n",
    "        \n",
    "       \n",
    "my_dataset = toy_set(transform = my_add_mult())\n",
    "for i in range(3):\n",
    "    x_, y_ = my_dataset[i]\n",
    "    print('Index: ', i, 'Transformed x_:', x_, 'Transformed y_:', y_)"
   ]
  },
  {
   "cell_type": "code",
   "execution_count": 110,
   "id": "0c4fcf80-b37f-43d9-867e-27dd6fbc6c34",
   "metadata": {},
   "outputs": [],
   "source": [
    "from torchvision import transforms"
   ]
  },
  {
   "cell_type": "code",
   "execution_count": 111,
   "id": "0372d824-baa4-4ea2-b686-a0356581a194",
   "metadata": {},
   "outputs": [],
   "source": [
    "class mult(object):\n",
    "    \n",
    "    # Constructor\n",
    "    def __init__(self, mult = 100):\n",
    "        self.mult = mult\n",
    "        \n",
    "    # Executor\n",
    "    def __call__(self, sample):\n",
    "        x = sample[0]\n",
    "        y = sample[1]\n",
    "        x = x * self.mult\n",
    "        y = y * self.mult\n",
    "        sample = x, y\n",
    "        return sample"
   ]
  },
  {
   "cell_type": "code",
   "execution_count": 112,
   "id": "4ffa2808-8403-412a-9268-95f955dc508f",
   "metadata": {},
   "outputs": [
    {
     "name": "stdout",
     "output_type": "stream",
     "text": [
      "The combination of transforms (Compose):  Compose(\n",
      "    <__main__.add_mult object at 0x0000020E60C337C0>\n",
      "    <__main__.mult object at 0x0000020E60C32EF0>\n",
      ")\n"
     ]
    }
   ],
   "source": [
    "data_transform = transforms.Compose([add_mult(), mult()])\n",
    "print(\"The combination of transforms (Compose): \", data_transform)"
   ]
  },
  {
   "cell_type": "code",
   "execution_count": 113,
   "id": "d96c8aba-0970-4071-9a81-ce8f7b181dcd",
   "metadata": {},
   "outputs": [
    {
     "data": {
      "text/plain": [
       "(tensor([300., 300.]), tensor([6.6679]))"
      ]
     },
     "execution_count": 113,
     "metadata": {},
     "output_type": "execute_result"
    }
   ],
   "source": [
    "data_transform(data_set[0])"
   ]
  },
  {
   "cell_type": "code",
   "execution_count": 114,
   "id": "66fbd40b-3747-41a3-8b6c-d8d3cc3c2117",
   "metadata": {},
   "outputs": [
    {
     "name": "stdout",
     "output_type": "stream",
     "text": [
      "Original x:  tensor([2., 2.]) Original y:  tensor([0.0333])\n",
      "Transformed x_: tensor([300., 300.]) Transformed y_: tensor([6.6679])\n"
     ]
    }
   ],
   "source": [
    "x,y=data_set[0]\n",
    "x_,y_=data_transform(data_set[0])\n",
    "print( 'Original x: ', x, 'Original y: ', y)\n",
    "\n",
    "print( 'Transformed x_:', x_, 'Transformed y_:', y_)"
   ]
  },
  {
   "cell_type": "code",
   "execution_count": 115,
   "id": "7465132d-e57e-4a1a-ae2c-a2027f4d1562",
   "metadata": {},
   "outputs": [],
   "source": [
    "compose_data_set = toy_set(transform = data_transform)"
   ]
  },
  {
   "cell_type": "code",
   "execution_count": 116,
   "id": "7f6cfaae-71f7-420b-b591-bf1be455250f",
   "metadata": {},
   "outputs": [
    {
     "name": "stdout",
     "output_type": "stream",
     "text": [
      "Index:  0 Original x:  tensor([2., 2.]) Original y:  tensor([0.0333])\n",
      "Index:  0 Transformed x_: tensor([3., 3.]) Transformed y_: tensor([0.2881])\n",
      "Index:  0 Compose Transformed x_co:  tensor([300., 300.]) Compose Transformed y_co:  tensor([190.8132])\n",
      "Index:  1 Original x:  tensor([2., 2.]) Original y:  tensor([0.2547])\n",
      "Index:  1 Transformed x_: tensor([3., 3.]) Transformed y_: tensor([0.7814])\n",
      "Index:  1 Compose Transformed x_co:  tensor([300., 300.]) Compose Transformed y_co:  tensor([32.0768])\n",
      "Index:  2 Original x:  tensor([2., 2.]) Original y:  tensor([0.6407])\n",
      "Index:  2 Transformed x_: tensor([3., 3.]) Transformed y_: tensor([1.0098])\n",
      "Index:  2 Compose Transformed x_co:  tensor([300., 300.]) Compose Transformed y_co:  tensor([7.1567])\n"
     ]
    }
   ],
   "source": [
    "for i in range(3):\n",
    "    x, y = data_set[i]\n",
    "    print('Index: ', i, 'Original x: ', x, 'Original y: ', y)\n",
    "    x_, y_ = cust_data_set[i]\n",
    "    print('Index: ', i, 'Transformed x_:', x_, 'Transformed y_:', y_)\n",
    "    x_co, y_co = compose_data_set[i]\n",
    "    print('Index: ', i, 'Compose Transformed x_co: ', x_co ,'Compose Transformed y_co: ',y_co)"
   ]
  },
  {
   "cell_type": "code",
   "execution_count": 117,
   "id": "900333de-bbef-49b0-802e-f7e49fc5dc75",
   "metadata": {},
   "outputs": [
    {
     "name": "stdout",
     "output_type": "stream",
     "text": [
      "Index:  0 Transformed x_: tensor([201., 201.]) Transformed y_: tensor([39.9988])\n",
      "Index:  1 Transformed x_: tensor([201., 201.]) Transformed y_: tensor([123.3101])\n",
      "Index:  2 Transformed x_: tensor([201., 201.]) Transformed y_: tensor([83.9246])\n"
     ]
    }
   ],
   "source": [
    "my_compose = transforms.Compose([mult(), add_mult()])\n",
    "my_transformed_dataset = toy_set(transform = my_compose)\n",
    "for i in range(3):\n",
    "    x_, y_ = my_transformed_dataset[i]\n",
    "    print('Index: ', i, 'Transformed x_:', x_, 'Transformed y_:', y_)"
   ]
  },
  {
   "cell_type": "markdown",
   "id": "28160273-bf80-4f51-b34e-892ae7c80890",
   "metadata": {},
   "source": [
    "Datasets for images"
   ]
  }
 ],
 "metadata": {
  "kernelspec": {
   "display_name": "Python 3 (ipykernel)",
   "language": "python",
   "name": "python3"
  },
  "language_info": {
   "codemirror_mode": {
    "name": "ipython",
    "version": 3
   },
   "file_extension": ".py",
   "mimetype": "text/x-python",
   "name": "python",
   "nbconvert_exporter": "python",
   "pygments_lexer": "ipython3",
   "version": "3.10.11"
  }
 },
 "nbformat": 4,
 "nbformat_minor": 5
}
