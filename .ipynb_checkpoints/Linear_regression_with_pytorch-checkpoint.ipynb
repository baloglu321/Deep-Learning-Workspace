{
 "cells": [
  {
   "cell_type": "code",
   "execution_count": 2,
   "id": "f083c6ab-7287-4197-8b49-6135cc7d53ef",
   "metadata": {},
   "outputs": [],
   "source": [
    "import torch\n",
    "from torch.nn import Linear\n",
    "import torch.nn as nn"
   ]
  },
  {
   "cell_type": "markdown",
   "id": "38ffc139-a596-433e-9ee6-0777d42c50c3",
   "metadata": {},
   "source": [
    "y=b+w*x;\n",
    "b=bias\n",
    "w=the slope or weight"
   ]
  },
  {
   "cell_type": "code",
   "execution_count": 3,
   "id": "a7fad268-d7f4-46aa-a3ea-4a73dda38fe5",
   "metadata": {},
   "outputs": [],
   "source": [
    "w=torch.tensor(2.0,requires_grad=True)\n",
    "b=torch.tensor(-1.0,requires_grad=True)"
   ]
  },
  {
   "cell_type": "code",
   "execution_count": 4,
   "id": "48500168-e8e8-425c-bc09-3689a1a8fea2",
   "metadata": {},
   "outputs": [],
   "source": [
    "def forward(x):\n",
    "    y=w*x+b\n",
    "    return y\n",
    "    "
   ]
  },
  {
   "cell_type": "code",
   "execution_count": 5,
   "id": "212c180e-f906-447b-8a0e-35a4a1f673c0",
   "metadata": {},
   "outputs": [
    {
     "data": {
      "text/plain": [
       "tensor([[1.],\n",
       "        [3.]], grad_fn=<AddBackward0>)"
      ]
     },
     "execution_count": 5,
     "metadata": {},
     "output_type": "execute_result"
    }
   ],
   "source": [
    "x=torch.tensor([[1.0],[2.0]])\n",
    "yhat=forward(x)\n",
    "yhat"
   ]
  },
  {
   "cell_type": "code",
   "execution_count": 6,
   "id": "effd972d-35eb-42f5-a0e7-9c5aa56453be",
   "metadata": {},
   "outputs": [
    {
     "name": "stdout",
     "output_type": "stream",
     "text": [
      "[Parameter containing:\n",
      "tensor([[0.7645]], requires_grad=True), Parameter containing:\n",
      "tensor([0.8300], requires_grad=True)]\n"
     ]
    }
   ],
   "source": [
    "torch.manual_seed(42)\n",
    "model_linear=Linear(in_features=1,out_features=1)\n",
    "print(list(model_linear.parameters()))"
   ]
  },
  {
   "cell_type": "code",
   "execution_count": 7,
   "id": "f38173eb-10b9-4dbf-accd-af8e341aa228",
   "metadata": {},
   "outputs": [
    {
     "data": {
      "text/plain": [
       "tensor([[1.5945],\n",
       "        [2.3591]], grad_fn=<AddmmBackward0>)"
      ]
     },
     "execution_count": 7,
     "metadata": {},
     "output_type": "execute_result"
    }
   ],
   "source": [
    "x_linear=torch.tensor([[1.0],[2.0]])\n",
    "yhat_linear=model_linear(x_linear)\n",
    "yhat_linear"
   ]
  },
  {
   "cell_type": "markdown",
   "id": "6293f29b-ed30-47b3-be36-f9ce81da4565",
   "metadata": {},
   "source": [
    "Custom model"
   ]
  },
  {
   "cell_type": "code",
   "execution_count": 8,
   "id": "7c03edbb-6f4b-4776-92b7-285bee4f3349",
   "metadata": {},
   "outputs": [],
   "source": [
    "class LR(nn.Module):\n",
    "\n",
    "    def __init__(self,in_size,output_size):\n",
    "        super(LR,self).__init__()\n",
    "        self.linear=nn.Linear(in_size,output_size)\n",
    "\n",
    "    def forward(self,x):\n",
    "        out=self.linear(x)\n",
    "        return out\n",
    "        "
   ]
  },
  {
   "cell_type": "code",
   "execution_count": 9,
   "id": "7f0ec2a5-a844-4f33-a22c-e71fafdcde72",
   "metadata": {},
   "outputs": [],
   "source": [
    "model_custom=LR(1,1)"
   ]
  },
  {
   "cell_type": "code",
   "execution_count": 10,
   "id": "dac1ea7b-dc93-4d7c-9c12-5308f790407c",
   "metadata": {},
   "outputs": [],
   "source": [
    "model_custom.state_dict()['linear.weight'].data[0]=torch.tensor([0.5153])\n",
    "model_custom.state_dict()['linear.bias'].data[0]=torch.tensor([-0.4414])\n",
    "#change the model parameters"
   ]
  },
  {
   "cell_type": "code",
   "execution_count": 11,
   "id": "77b0bcf0-1799-4f17-8763-57d3bd0fdd83",
   "metadata": {},
   "outputs": [
    {
     "name": "stdout",
     "output_type": "stream",
     "text": [
      "[Parameter containing:\n",
      "tensor([[0.5153]], requires_grad=True), Parameter containing:\n",
      "tensor([-0.4414], requires_grad=True)]\n"
     ]
    }
   ],
   "source": [
    "print(list(model_custom.parameters()))"
   ]
  },
  {
   "cell_type": "code",
   "execution_count": 12,
   "id": "3895bb48-5f1c-43d8-9318-7251326e029e",
   "metadata": {},
   "outputs": [
    {
     "data": {
      "text/plain": [
       "tensor([0.0739], grad_fn=<AddBackward0>)"
      ]
     },
     "execution_count": 12,
     "metadata": {},
     "output_type": "execute_result"
    }
   ],
   "source": [
    "x_custom=torch.tensor([1.0])\n",
    "yhat_custom=model_custom(x_custom)\n",
    "yhat_custom"
   ]
  },
  {
   "cell_type": "code",
   "execution_count": 13,
   "id": "2358c785-5654-435e-a6e9-9fd948fbc104",
   "metadata": {},
   "outputs": [
    {
     "data": {
      "text/plain": [
       "tensor([[0.0739],\n",
       "        [0.5892]], grad_fn=<AddmmBackward0>)"
      ]
     },
     "execution_count": 13,
     "metadata": {},
     "output_type": "execute_result"
    }
   ],
   "source": [
    "x_custom2=torch.tensor([[1.0],[2.0]])\n",
    "yhat_custom2=model_custom(x_custom2)\n",
    "yhat_custom2"
   ]
  },
  {
   "cell_type": "code",
   "execution_count": 15,
   "id": "c2c8a0c4-d709-47d5-ac1f-11b7cd336336",
   "metadata": {},
   "outputs": [
    {
     "name": "stdout",
     "output_type": "stream",
     "text": [
      "Python dictionary: OrderedDict([('linear.weight', tensor([[0.5153]])), ('linear.bias', tensor([-0.4414]))])\n",
      "Keys: odict_keys(['linear.weight', 'linear.bias'])\n",
      "values: odict_values([tensor([[0.5153]]), tensor([-0.4414])])\n"
     ]
    }
   ],
   "source": [
    "print(\"Python dictionary:\",model_custom.state_dict())\n",
    "print(\"Keys:\",model_custom.state_dict().keys())\n",
    "print(\"values:\",model_custom.state_dict().values())\n",
    "\n"
   ]
  },
  {
   "cell_type": "code",
   "execution_count": 18,
   "id": "169b01f0-af72-4729-b75c-83a5440f5cec",
   "metadata": {},
   "outputs": [
    {
     "data": {
      "text/plain": [
       "tensor([[0.5153]])"
      ]
     },
     "execution_count": 18,
     "metadata": {},
     "output_type": "execute_result"
    }
   ],
   "source": [
    "list(model_custom.state_dict().values())[0]"
   ]
  },
  {
   "cell_type": "code",
   "execution_count": null,
   "id": "c9e98194-bf86-45e9-8165-d2bb86bed8e7",
   "metadata": {},
   "outputs": [],
   "source": []
  },
  {
   "cell_type": "code",
   "execution_count": null,
   "id": "dba9ce03-c7b2-40c2-bd23-06e2cfe90fef",
   "metadata": {},
   "outputs": [],
   "source": []
  },
  {
   "cell_type": "code",
   "execution_count": null,
   "id": "3c1932b1-3140-4ff4-9bf5-db27b0e4bb89",
   "metadata": {},
   "outputs": [],
   "source": []
  },
  {
   "cell_type": "code",
   "execution_count": null,
   "id": "b937ce92-593a-462a-ab41-eb2d281adf5e",
   "metadata": {},
   "outputs": [],
   "source": []
  }
 ],
 "metadata": {
  "kernelspec": {
   "display_name": "Python 3 (ipykernel)",
   "language": "python",
   "name": "python3"
  },
  "language_info": {
   "codemirror_mode": {
    "name": "ipython",
    "version": 3
   },
   "file_extension": ".py",
   "mimetype": "text/x-python",
   "name": "python",
   "nbconvert_exporter": "python",
   "pygments_lexer": "ipython3",
   "version": "3.10.11"
  }
 },
 "nbformat": 4,
 "nbformat_minor": 5
}
