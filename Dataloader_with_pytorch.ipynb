{
 "cells": [
  {
   "cell_type": "code",
   "execution_count": 1,
   "id": "0acdc5b0-933e-41e2-8221-5525d2321000",
   "metadata": {},
   "outputs": [
    {
     "name": "stdout",
     "output_type": "stream",
     "text": [
      "(tensor(0.), tensor([1.]))\n",
      "(tensor(30.), tensor([33.]))\n",
      "(tensor(1.0101), tensor([1.]))\n",
      "(tensor(33.0303), tensor([33.]))\n",
      "(tensor(2.0202), tensor([1.]))\n",
      "(tensor(36.0606), tensor([33.]))\n"
     ]
    }
   ],
   "source": [
    "import torch\n",
    "import numpy as np\n",
    "from torch.utils.data import Dataset\n",
    "\n",
    "\n",
    "\n",
    "torch.manual_seed(42)\n",
    "\n",
    "class dataset(Dataset):\n",
    "    \n",
    "    def __init__(self,lenght=100,transform=None):\n",
    "        self.len=lenght\n",
    "        self.x=torch.linspace(0,self.len,self.len)\n",
    "        self.y=torch.ones(self.len,1)\n",
    "        self.transform=transform\n",
    "    \n",
    "    def __getitem__(self, index):\n",
    "       sample=self.x[index],self.y[index]\n",
    "       \n",
    "       if self.transform:\n",
    "           sample=self.transform(sample)\n",
    "      \n",
    "       return sample \n",
    "\n",
    "    def __len__(self):\n",
    "        return self.len\n",
    "\n",
    "class add_mul(object):\n",
    "    def __init__(self,add=5,mul=2):\n",
    "        self.add=add\n",
    "        self.mul=mul\n",
    "        \n",
    "    def __call__(self,sample):\n",
    "        x=sample[0]\n",
    "        y=sample[1]\n",
    "        x=x+self.add\n",
    "        y=y+self.add\n",
    "        x=x*self.mul\n",
    "        y=y*self.mul\n",
    "        sample=x,y\n",
    "        return sample\n",
    "    \n",
    "    \n",
    "    \n",
    "    \n",
    "my_dataset=dataset()  \n",
    "my_dataset2=dataset(transform=add_mul(add=10,mul=3)) \n",
    "for i in range(3):\n",
    "    sample=my_dataset[i]\n",
    "    sample_2=my_dataset2[i]\n",
    "    print(sample)\n",
    "    print(sample_2)"
   ]
  },
  {
   "cell_type": "code",
   "execution_count": null,
   "id": "d5140df1-7755-419e-ab09-551169e24855",
   "metadata": {},
   "outputs": [],
   "source": []
  }
 ],
 "metadata": {
  "kernelspec": {
   "display_name": "Python 3 (ipykernel)",
   "language": "python",
   "name": "python3"
  },
  "language_info": {
   "codemirror_mode": {
    "name": "ipython",
    "version": 3
   },
   "file_extension": ".py",
   "mimetype": "text/x-python",
   "name": "python",
   "nbconvert_exporter": "python",
   "pygments_lexer": "ipython3",
   "version": "3.10.11"
  }
 },
 "nbformat": 4,
 "nbformat_minor": 5
}
